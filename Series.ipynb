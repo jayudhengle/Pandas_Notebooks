{
 "cells": [
  {
   "cell_type": "code",
   "execution_count": 2,
   "id": "8335a9ab-929c-4da2-b322-45979566983c",
   "metadata": {},
   "outputs": [],
   "source": [
    "import pandas as pd"
   ]
  },
  {
   "cell_type": "code",
   "execution_count": 3,
   "id": "33137352-7abb-4816-91ce-0ec895825d94",
   "metadata": {},
   "outputs": [],
   "source": [
    "numbers = [1,3,4,5,6]"
   ]
  },
  {
   "cell_type": "code",
   "execution_count": 5,
   "id": "2661772f-c500-468e-980a-c8e14020f376",
   "metadata": {},
   "outputs": [
    {
     "data": {
      "text/plain": [
       "0    1\n",
       "1    3\n",
       "2    4\n",
       "3    5\n",
       "4    6\n",
       "dtype: int64"
      ]
     },
     "execution_count": 5,
     "metadata": {},
     "output_type": "execute_result"
    }
   ],
   "source": [
    "pd.Series(numbers)"
   ]
  },
  {
   "cell_type": "code",
   "execution_count": 6,
   "id": "628f7d2b-e2ff-4153-a71c-2f28bd08cba4",
   "metadata": {},
   "outputs": [],
   "source": [
    "letters = ['a', 'b', 'c', 'd', 'e']"
   ]
  },
  {
   "cell_type": "code",
   "execution_count": 7,
   "id": "a1f85156-d0e5-495a-9e3f-56ad7aa16437",
   "metadata": {},
   "outputs": [
    {
     "data": {
      "text/plain": [
       "0    a\n",
       "1    b\n",
       "2    c\n",
       "3    d\n",
       "4    e\n",
       "dtype: object"
      ]
     },
     "execution_count": 7,
     "metadata": {},
     "output_type": "execute_result"
    }
   ],
   "source": [
    "pd.Series(letters)"
   ]
  },
  {
   "cell_type": "code",
   "execution_count": 8,
   "id": "e6a40e58-c815-46ef-b1bd-803f7730e53a",
   "metadata": {},
   "outputs": [
    {
     "data": {
      "text/plain": [
       "a    1\n",
       "b    3\n",
       "c    4\n",
       "d    5\n",
       "e    6\n",
       "dtype: int64"
      ]
     },
     "execution_count": 8,
     "metadata": {},
     "output_type": "execute_result"
    }
   ],
   "source": [
    "pd.Series(data = numbers, index = letters)"
   ]
  },
  {
   "cell_type": "code",
   "execution_count": 10,
   "id": "b4a48c76-d1c1-4883-8635-bc3ab5b67c15",
   "metadata": {},
   "outputs": [
    {
     "data": {
      "text/plain": [
       "letter1    a\n",
       "letter2    b\n",
       "letter3    c\n",
       "letter4    d\n",
       "letter5    e\n",
       "dtype: object"
      ]
     },
     "execution_count": 10,
     "metadata": {},
     "output_type": "execute_result"
    }
   ],
   "source": [
    "pd.Series(data = letters, index = ['letter1','letter2','letter3','letter4','letter5'])"
   ]
  },
  {
   "cell_type": "code",
   "execution_count": 13,
   "id": "1b48040d-eef7-41ba-a25c-581d64ce326f",
   "metadata": {},
   "outputs": [],
   "source": [
    "data = { 'Name' : 'Jayu', 'Salary' : 35000, 'Age': 34}"
   ]
  },
  {
   "cell_type": "code",
   "execution_count": 14,
   "id": "c189ceb6-043d-4916-8820-2fe9b5b93006",
   "metadata": {},
   "outputs": [
    {
     "data": {
      "text/plain": [
       "Name       Jayu\n",
       "Salary    35000\n",
       "Age          34\n",
       "dtype: object"
      ]
     },
     "execution_count": 14,
     "metadata": {},
     "output_type": "execute_result"
    }
   ],
   "source": [
    "pd.Series(data)"
   ]
  },
  {
   "cell_type": "code",
   "execution_count": 18,
   "id": "af8dc282-74f2-410d-9b73-1f0eb24a1839",
   "metadata": {},
   "outputs": [
    {
     "data": {
      "text/plain": [
       "Name       Jayu\n",
       "Salary    35000\n",
       "DOB         NaN\n",
       "dtype: object"
      ]
     },
     "execution_count": 18,
     "metadata": {},
     "output_type": "execute_result"
    }
   ],
   "source": [
    "pd.Series(data = data, index = ['Name','Salary', 'DOB' ])"
   ]
  },
  {
   "cell_type": "code",
   "execution_count": 19,
   "id": "66699ac1-c019-4081-a0d0-e568837bc888",
   "metadata": {},
   "outputs": [
    {
     "data": {
      "text/plain": [
       "Name       Jayu\n",
       "Salary    35000\n",
       "Age          34\n",
       "dtype: object"
      ]
     },
     "execution_count": 19,
     "metadata": {},
     "output_type": "execute_result"
    }
   ],
   "source": [
    "pd.Series(data = data, index = ['Name','Salary', 'Age' ])"
   ]
  },
  {
   "cell_type": "code",
   "execution_count": null,
   "id": "fe26662e-bac7-495f-8314-a9473e960887",
   "metadata": {},
   "outputs": [],
   "source": []
  }
 ],
 "metadata": {
  "kernelspec": {
   "display_name": "Python 3 (ipykernel)",
   "language": "python",
   "name": "python3"
  },
  "language_info": {
   "codemirror_mode": {
    "name": "ipython",
    "version": 3
   },
   "file_extension": ".py",
   "mimetype": "text/x-python",
   "name": "python",
   "nbconvert_exporter": "python",
   "pygments_lexer": "ipython3",
   "version": "3.13.5"
  }
 },
 "nbformat": 4,
 "nbformat_minor": 5
}
