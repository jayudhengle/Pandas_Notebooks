{
 "cells": [
  {
   "cell_type": "code",
   "execution_count": 1,
   "id": "e563566b-9289-4342-9896-396173ff0dd1",
   "metadata": {},
   "outputs": [],
   "source": [
    "import pandas as pd"
   ]
  },
  {
   "cell_type": "code",
   "execution_count": 2,
   "id": "de864c6e-c28f-45d3-8637-f3bc14f8c999",
   "metadata": {},
   "outputs": [
    {
     "data": {
      "text/plain": [
       "0                     Elon Musk\n",
       "1                    Jeff Bezos\n",
       "2      Bernard Arnault & family\n",
       "3                    Bill Gates\n",
       "4                Warren Buffett\n",
       "                 ...           \n",
       "96             Vladimir Potanin\n",
       "97         Harold Hamm & family\n",
       "98                 Sun Piaoyang\n",
       "99           Luo Liguo & family\n",
       "100                   Peter Woo\n",
       "Name: Name, Length: 101, dtype: object"
      ]
     },
     "execution_count": 2,
     "metadata": {},
     "output_type": "execute_result"
    }
   ],
   "source": [
    "richest = pd.read_csv(\"TopRichestInWorld.csv\", usecols= ['Name']).squeeze()\n",
    "richest"
   ]
  },
  {
   "cell_type": "code",
   "execution_count": 6,
   "id": "6decae07-64af-4f33-97c6-30f31bf9535d",
   "metadata": {},
   "outputs": [
    {
     "data": {
      "text/plain": [
       "0                   Elon Musk\n",
       "1                  Jeff Bezos\n",
       "2    Bernard Arnault & family\n",
       "3                  Bill Gates\n",
       "4              Warren Buffett\n",
       "5                  Larry Page\n",
       "6                 Sergey Brin\n",
       "7               Larry Ellison\n",
       "8               Steve Ballmer\n",
       "9               Mukesh Ambani\n",
       "Name: Name, dtype: object"
      ]
     },
     "execution_count": 6,
     "metadata": {},
     "output_type": "execute_result"
    }
   ],
   "source": [
    "richest.head(10)"
   ]
  },
  {
   "cell_type": "code",
   "execution_count": 4,
   "id": "18cdba2b-de33-4f06-87a5-2d2a5cb62f02",
   "metadata": {},
   "outputs": [
    {
     "data": {
      "text/plain": [
       "'Elon Musk'"
      ]
     },
     "execution_count": 4,
     "metadata": {},
     "output_type": "execute_result"
    }
   ],
   "source": [
    "richest[0]"
   ]
  },
  {
   "cell_type": "code",
   "execution_count": 5,
   "id": "4506f441-4495-4c49-a9e8-7f1572387a6c",
   "metadata": {},
   "outputs": [
    {
     "data": {
      "text/plain": [
       "1                   Jeff Bezos\n",
       "2     Bernard Arnault & family\n",
       "15                  Jim Walton\n",
       "Name: Name, dtype: object"
      ]
     },
     "execution_count": 5,
     "metadata": {},
     "output_type": "execute_result"
    }
   ],
   "source": [
    "richest[[1,2,15]]"
   ]
  },
  {
   "cell_type": "code",
   "execution_count": 8,
   "id": "677033bf-8605-4b99-95bb-976f541df133",
   "metadata": {},
   "outputs": [
    {
     "data": {
      "text/plain": [
       "5                    Larry Page\n",
       "6                   Sergey Brin\n",
       "7                 Larry Ellison\n",
       "8                 Steve Ballmer\n",
       "9                 Mukesh Ambani\n",
       "10        Gautam Adani & family\n",
       "11            Michael Bloomberg\n",
       "12    Carlos Slim Helu & family\n",
       "Name: Name, dtype: object"
      ]
     },
     "execution_count": 8,
     "metadata": {},
     "output_type": "execute_result"
    }
   ],
   "source": [
    "richest[5:13]"
   ]
  },
  {
   "cell_type": "code",
   "execution_count": 9,
   "id": "9df843e9-bbb1-44b8-9f44-720a4144a8af",
   "metadata": {},
   "outputs": [
    {
     "data": {
      "text/plain": [
       "0                     Elon Musk\n",
       "2      Bernard Arnault & family\n",
       "4                Warren Buffett\n",
       "6                   Sergey Brin\n",
       "8                 Steve Ballmer\n",
       "10        Gautam Adani & family\n",
       "12    Carlos Slim Helu & family\n",
       "14              Mark Zuckerberg\n",
       "16               Zhong Shanshan\n",
       "18                   Rob Walton\n",
       "Name: Name, dtype: object"
      ]
     },
     "execution_count": 9,
     "metadata": {},
     "output_type": "execute_result"
    }
   ],
   "source": [
    "richest[0:20:2]"
   ]
  },
  {
   "cell_type": "code",
   "execution_count": 10,
   "id": "cd875a53-65bf-4bbb-a4e6-5b315d864958",
   "metadata": {},
   "outputs": [
    {
     "data": {
      "text/plain": [
       "0                   Elon Musk\n",
       "1                  Jeff Bezos\n",
       "2    Bernard Arnault & family\n",
       "3                  Bill Gates\n",
       "4              Warren Buffett\n",
       "5                  Larry Page\n",
       "Name: Name, dtype: object"
      ]
     },
     "execution_count": 10,
     "metadata": {},
     "output_type": "execute_result"
    }
   ],
   "source": [
    "richest[:6]"
   ]
  },
  {
   "cell_type": "code",
   "execution_count": null,
   "id": "8e5c0cb0-a67e-439f-8a2d-1a20297f2b48",
   "metadata": {},
   "outputs": [],
   "source": [
    "richest[-1]"
   ]
  },
  {
   "cell_type": "code",
   "execution_count": 12,
   "id": "c9808c28-ad97-408e-8258-d3657fed7596",
   "metadata": {},
   "outputs": [
    {
     "data": {
      "text/plain": [
       "100    Peter Woo\n",
       "Name: Name, dtype: object"
      ]
     },
     "execution_count": 12,
     "metadata": {},
     "output_type": "execute_result"
    }
   ],
   "source": [
    "richest[-1:]"
   ]
  },
  {
   "cell_type": "code",
   "execution_count": 13,
   "id": "1d70341f-30c7-4574-811f-2333b9067c67",
   "metadata": {},
   "outputs": [
    {
     "data": {
      "text/plain": [
       "RangeIndex(start=0, stop=101, step=1)"
      ]
     },
     "execution_count": 13,
     "metadata": {},
     "output_type": "execute_result"
    }
   ],
   "source": [
    "richest.index"
   ]
  },
  {
   "cell_type": "code",
   "execution_count": null,
   "id": "17848ea7-dcda-4dec-b4c7-aa18d6750e6a",
   "metadata": {},
   "outputs": [],
   "source": []
  }
 ],
 "metadata": {
  "kernelspec": {
   "display_name": "Python 3 (ipykernel)",
   "language": "python",
   "name": "python3"
  },
  "language_info": {
   "codemirror_mode": {
    "name": "ipython",
    "version": 3
   },
   "file_extension": ".py",
   "mimetype": "text/x-python",
   "name": "python",
   "nbconvert_exporter": "python",
   "pygments_lexer": "ipython3",
   "version": "3.13.5"
  }
 },
 "nbformat": 4,
 "nbformat_minor": 5
}
