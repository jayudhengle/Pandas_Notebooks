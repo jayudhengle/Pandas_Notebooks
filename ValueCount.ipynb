{
 "cells": [
  {
   "cell_type": "code",
   "execution_count": 1,
   "id": "661d507c-5b16-4f7b-9d39-d4660e4bcc5e",
   "metadata": {},
   "outputs": [],
   "source": [
    "import pandas as pd"
   ]
  },
  {
   "cell_type": "code",
   "execution_count": 7,
   "id": "2c483ecd-8336-411c-9a6c-0b486c62b236",
   "metadata": {},
   "outputs": [
    {
     "data": {
      "text/plain": [
       "0                 Automotive\n",
       "1                 Technology\n",
       "2           Fashion & Retail\n",
       "3                 Technology\n",
       "4      Finance & Investments\n",
       "               ...          \n",
       "96           Metals & Mining\n",
       "97                    Energy\n",
       "98                Healthcare\n",
       "99             Manufacturing\n",
       "100              Real Estate\n",
       "Name: Industry, Length: 101, dtype: object"
      ]
     },
     "execution_count": 7,
     "metadata": {},
     "output_type": "execute_result"
    }
   ],
   "source": [
    "richest = pd.read_csv(\"TopRichestInWorld.csv\", usecols= ['Industry']).squeeze()\n",
    "richest"
   ]
  },
  {
   "cell_type": "code",
   "execution_count": 16,
   "id": "aa99b580-29ce-4301-97af-b71eafda52b3",
   "metadata": {},
   "outputs": [
    {
     "data": {
      "text/plain": [
       "Industry\n",
       "Gambling & Casinos       0.009901\n",
       "Service                  0.009901\n",
       "Telecom                  0.019802\n",
       "Logistics                0.019802\n",
       "Energy                   0.019802\n",
       "Real Estate              0.029703\n",
       "Media & Entertainment    0.039604\n",
       "Manufacturing            0.049505\n",
       "Healthcare               0.049505\n",
       "Diversified              0.059406\n",
       "Automotive               0.069307\n",
       "Food & Beverage          0.079208\n",
       "Metals & Mining          0.089109\n",
       "Finance & Investments    0.128713\n",
       "Technology               0.148515\n",
       "Fashion & Retail         0.178218\n",
       "Name: proportion, dtype: float64"
      ]
     },
     "execution_count": 16,
     "metadata": {},
     "output_type": "execute_result"
    }
   ],
   "source": [
    "richest.value_counts(normalize=True,\n",
    "                     ascending=True,\n",
    "                     dropna=False\n",
    "                    )"
   ]
  },
  {
   "cell_type": "code",
   "execution_count": 18,
   "id": "07df1a1b-ec67-499f-b3d3-3cad4b71adbb",
   "metadata": {},
   "outputs": [
    {
     "data": {
      "text/plain": [
       "0      50\n",
       "1      58\n",
       "2      73\n",
       "3      66\n",
       "4      91\n",
       "       ..\n",
       "96     61\n",
       "97     76\n",
       "98     63\n",
       "99     66\n",
       "100    75\n",
       "Name: Age, Length: 101, dtype: int64"
      ]
     },
     "execution_count": 18,
     "metadata": {},
     "output_type": "execute_result"
    }
   ],
   "source": [
    "richest = pd.read_csv(\"TopRichestInWorld.csv\", usecols= ['Age']).squeeze()\n",
    "richest"
   ]
  },
  {
   "cell_type": "code",
   "execution_count": 21,
   "id": "074e3640-c712-4973-9bf0-9ae987989cb7",
   "metadata": {},
   "outputs": [
    {
     "data": {
      "text/plain": [
       "(51.333, 72.667]    47\n",
       "(72.667, 94.0]      39\n",
       "(29.935, 51.333]    15\n",
       "Name: count, dtype: int64"
      ]
     },
     "execution_count": 21,
     "metadata": {},
     "output_type": "execute_result"
    }
   ],
   "source": [
    "richest.value_counts(bins=3)"
   ]
  },
  {
   "cell_type": "code",
   "execution_count": null,
   "id": "bc201787-4a7c-4aa2-8d0e-4ef253c91e64",
   "metadata": {},
   "outputs": [],
   "source": []
  }
 ],
 "metadata": {
  "kernelspec": {
   "display_name": "Python 3 (ipykernel)",
   "language": "python",
   "name": "python3"
  },
  "language_info": {
   "codemirror_mode": {
    "name": "ipython",
    "version": 3
   },
   "file_extension": ".py",
   "mimetype": "text/x-python",
   "name": "python",
   "nbconvert_exporter": "python",
   "pygments_lexer": "ipython3",
   "version": "3.13.5"
  }
 },
 "nbformat": 4,
 "nbformat_minor": 5
}
