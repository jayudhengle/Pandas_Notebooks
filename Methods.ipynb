{
 "cells": [
  {
   "cell_type": "markdown",
   "id": "061aee23-993b-4d72-a757-69d30e52ab55",
   "metadata": {},
   "source": [
    "### Methods"
   ]
  },
  {
   "cell_type": "code",
   "execution_count": 1,
   "id": "4b4d5b9f-461b-4e7c-81b3-eb754bb4e183",
   "metadata": {},
   "outputs": [],
   "source": [
    "import pandas as pd"
   ]
  },
  {
   "cell_type": "code",
   "execution_count": 15,
   "id": "cff4cdf6-cb8b-4623-80bd-8fb191bd92b5",
   "metadata": {},
   "outputs": [
    {
     "data": {
      "text/plain": [
       "0    1.50000\n",
       "1    2.50000\n",
       "2    0.50000\n",
       "3        NaN\n",
       "4    4.12345\n",
       "5    1.00000\n",
       "dtype: float64"
      ]
     },
     "execution_count": 15,
     "metadata": {},
     "output_type": "execute_result"
    }
   ],
   "source": [
    "values = pd.Series(data= [1.5, 2.5, 0.5, None,4.12345, 1.0])\n",
    "values"
   ]
  },
  {
   "cell_type": "code",
   "execution_count": 4,
   "id": "46fb4fc3-9a80-433c-bc0c-3caa6577c1cb",
   "metadata": {},
   "outputs": [
    {
     "data": {
      "text/plain": [
       "4.0"
      ]
     },
     "execution_count": 4,
     "metadata": {},
     "output_type": "execute_result"
    }
   ],
   "source": [
    "values.max()"
   ]
  },
  {
   "cell_type": "code",
   "execution_count": 5,
   "id": "4ec61188-8f7e-43fe-a234-f36cc5b40fc2",
   "metadata": {},
   "outputs": [
    {
     "data": {
      "text/plain": [
       "0.5"
      ]
     },
     "execution_count": 5,
     "metadata": {},
     "output_type": "execute_result"
    }
   ],
   "source": [
    "values.min()"
   ]
  },
  {
   "cell_type": "code",
   "execution_count": 6,
   "id": "c0577e42-f944-4484-acf6-0ecb6003864b",
   "metadata": {},
   "outputs": [
    {
     "data": {
      "text/plain": [
       "np.float64(9.5)"
      ]
     },
     "execution_count": 6,
     "metadata": {},
     "output_type": "execute_result"
    }
   ],
   "source": [
    "values.sum()"
   ]
  },
  {
   "cell_type": "code",
   "execution_count": 7,
   "id": "93964deb-e193-4b70-9311-104e42529152",
   "metadata": {},
   "outputs": [
    {
     "data": {
      "text/plain": [
       "np.float64(1.9)"
      ]
     },
     "execution_count": 7,
     "metadata": {},
     "output_type": "execute_result"
    }
   ],
   "source": [
    "values.mean()"
   ]
  },
  {
   "cell_type": "code",
   "execution_count": 8,
   "id": "3ec9a40e-1f9d-48af-85d1-78097eb17d10",
   "metadata": {},
   "outputs": [
    {
     "data": {
      "text/plain": [
       "4"
      ]
     },
     "execution_count": 8,
     "metadata": {},
     "output_type": "execute_result"
    }
   ],
   "source": [
    "values.idxmax()"
   ]
  },
  {
   "cell_type": "code",
   "execution_count": 9,
   "id": "b33311ee-9fc1-4c28-bebd-e5b337dfb313",
   "metadata": {},
   "outputs": [
    {
     "data": {
      "text/plain": [
       "2"
      ]
     },
     "execution_count": 9,
     "metadata": {},
     "output_type": "execute_result"
    }
   ],
   "source": [
    "values.idxmin()"
   ]
  },
  {
   "cell_type": "code",
   "execution_count": 11,
   "id": "6429076f-d9f7-4d98-bb91-6f5f93dc219d",
   "metadata": {},
   "outputs": [
    {
     "data": {
      "text/plain": [
       "0    False\n",
       "1    False\n",
       "2    False\n",
       "3     True\n",
       "4    False\n",
       "5    False\n",
       "dtype: bool"
      ]
     },
     "execution_count": 11,
     "metadata": {},
     "output_type": "execute_result"
    }
   ],
   "source": [
    "values.isnull()"
   ]
  },
  {
   "cell_type": "code",
   "execution_count": 17,
   "id": "9c3c003c-f447-4674-86ce-49380743abfa",
   "metadata": {},
   "outputs": [
    {
     "data": {
      "text/plain": [
       "0    2.0\n",
       "1    2.0\n",
       "2    0.0\n",
       "3    NaN\n",
       "4    4.0\n",
       "5    1.0\n",
       "dtype: float64"
      ]
     },
     "execution_count": 17,
     "metadata": {},
     "output_type": "execute_result"
    }
   ],
   "source": [
    "values.round()"
   ]
  },
  {
   "cell_type": "code",
   "execution_count": 16,
   "id": "77628951-c7f0-49fc-bae4-3c06a3adfc91",
   "metadata": {},
   "outputs": [
    {
     "data": {
      "text/plain": [
       "0    1.50\n",
       "1    2.50\n",
       "2    0.50\n",
       "3     NaN\n",
       "4    4.12\n",
       "5    1.00\n",
       "dtype: float64"
      ]
     },
     "execution_count": 16,
     "metadata": {},
     "output_type": "execute_result"
    }
   ],
   "source": [
    "values.round(2)"
   ]
  },
  {
   "cell_type": "code",
   "execution_count": null,
   "id": "7c7cf998-14f0-461e-aeca-9e0203b230a4",
   "metadata": {},
   "outputs": [],
   "source": []
  }
 ],
 "metadata": {
  "kernelspec": {
   "display_name": "Python 3 (ipykernel)",
   "language": "python",
   "name": "python3"
  },
  "language_info": {
   "codemirror_mode": {
    "name": "ipython",
    "version": 3
   },
   "file_extension": ".py",
   "mimetype": "text/x-python",
   "name": "python",
   "nbconvert_exporter": "python",
   "pygments_lexer": "ipython3",
   "version": "3.13.5"
  }
 },
 "nbformat": 4,
 "nbformat_minor": 5
}
