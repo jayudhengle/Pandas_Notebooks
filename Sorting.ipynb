{
 "cells": [
  {
   "cell_type": "code",
   "execution_count": 1,
   "id": "2c57f163-cb95-4315-9034-805ac871718b",
   "metadata": {},
   "outputs": [],
   "source": [
    "import pandas as pd"
   ]
  },
  {
   "cell_type": "code",
   "execution_count": 27,
   "id": "64d31490-750a-4398-9aca-cbed1a7a7eb8",
   "metadata": {},
   "outputs": [
    {
     "data": {
      "text/plain": [
       "0                     Elon Musk\n",
       "1                    Jeff Bezos\n",
       "2      Bernard Arnault & family\n",
       "3                    Bill Gates\n",
       "4                Warren Buffett\n",
       "                 ...           \n",
       "96             Vladimir Potanin\n",
       "97         Harold Hamm & family\n",
       "98                 Sun Piaoyang\n",
       "99           Luo Liguo & family\n",
       "100                   Peter Woo\n",
       "Name: Name, Length: 101, dtype: object"
      ]
     },
     "execution_count": 27,
     "metadata": {},
     "output_type": "execute_result"
    }
   ],
   "source": [
    "richest = pd.read_csv(\"TopRichestInWorld.csv\", usecols= ['Name']).squeeze()\n",
    "richest"
   ]
  },
  {
   "cell_type": "code",
   "execution_count": 7,
   "id": "4adeaccf-cce3-4053-bf94-74c6962e47e3",
   "metadata": {},
   "outputs": [
    {
     "data": {
      "text/plain": [
       "pandas.core.series.Series"
      ]
     },
     "execution_count": 7,
     "metadata": {},
     "output_type": "execute_result"
    }
   ],
   "source": [
    "type(richest)"
   ]
  },
  {
   "cell_type": "code",
   "execution_count": 36,
   "id": "6a05444d-1717-4a7e-9596-38230ba07315",
   "metadata": {},
   "outputs": [
    {
     "data": {
      "text/plain": [
       "0           Abigail Johnson\n",
       "1          Alain Wertheimer\n",
       "2              Alice Walton\n",
       "3            Amancio Ortega\n",
       "4            Andrew Forrest\n",
       "               ...         \n",
       "96           Warren Buffett\n",
       "97         William Lei Ding\n",
       "98     Yang Huiyan & family\n",
       "99             Zhang Yiming\n",
       "100          Zhong Shanshan\n",
       "Name: Name, Length: 101, dtype: object"
      ]
     },
     "execution_count": 36,
     "metadata": {},
     "output_type": "execute_result"
    }
   ],
   "source": [
    "ricehest1 = richest.sort_values(axis=0, \n",
    "                    ascending=True,\n",
    "                    kind= 'quicksort',\n",
    "                    na_position='last',\n",
    "                    ignore_index=True\n",
    "                    )\n",
    "ricehest1"
   ]
  },
  {
   "cell_type": "code",
   "execution_count": null,
   "id": "03d65f15-73c4-492f-b98a-f19e80a6ddb7",
   "metadata": {},
   "outputs": [],
   "source": []
  },
  {
   "cell_type": "code",
   "execution_count": null,
   "id": "e40f8ef9-6415-4b59-9f9f-eb36f9ac2e7f",
   "metadata": {},
   "outputs": [],
   "source": []
  }
 ],
 "metadata": {
  "kernelspec": {
   "display_name": "Python 3 (ipykernel)",
   "language": "python",
   "name": "python3"
  },
  "language_info": {
   "codemirror_mode": {
    "name": "ipython",
    "version": 3
   },
   "file_extension": ".py",
   "mimetype": "text/x-python",
   "name": "python",
   "nbconvert_exporter": "python",
   "pygments_lexer": "ipython3",
   "version": "3.13.5"
  }
 },
 "nbformat": 4,
 "nbformat_minor": 5
}
